{
 "cells": [
  {
   "cell_type": "code",
   "execution_count": 1,
   "metadata": {},
   "outputs": [],
   "source": [
    "from googletrans import Translator"
   ]
  },
  {
   "cell_type": "code",
   "execution_count": 4,
   "metadata": {},
   "outputs": [
    {
     "name": "stdout",
     "output_type": "stream",
     "text": [
      "ఐపిఎల్ ఫ్రాంచైజీలు ఇంగ్లాండ్ ఆటగాళ్ళు బయటకు తీయడంతో కలత చెందుతున్నట్లు అనిపిస్తుంది మరియు ఈ వృత్తిపరమైన చర్య గురించి బిసిసిఐ ఏదైనా చేయాలని వారు కోరుకుంటారు.క్రిక్‌బజ్‌తో మాట్లాడుతూ, బిసిసిఐ దీనిని పరిష్కరించాలని ఫ్రాంచైజ్ అధికారి ఒకరు తెలిపారు.ఆటగాళ్ళు వేలం కోసం నమోదు చేసిన తర్వాత, వారు వారి నిబద్ధతను గౌరవించాలి.దానిపై రెడీ చేయడం వృత్తిపరమైనది కాదు, బిసిసిఐ దీనిని పరిష్కరించాలని అధికారి తెలిపారు.\n"
     ]
    }
   ],
   "source": [
    "text = \"The IPL franchises seems to be upset with England players pulling out and they want the BCCI to do something about this unprofessional act. Speaking to Cricbuzz, a franchise official said that the BCCI should address this. Once players register for the auction, they should honour their commitment. Reneging on it is unprofessional, and the BCCI should address this, the official said.\"\n",
    "\n",
    "translator = Translator()\n",
    "translated = translator.translate(text, src='en', dest='te')\n",
    "print(translated.text)"
   ]
  }
 ],
 "metadata": {
  "kernelspec": {
   "display_name": "base",
   "language": "python",
   "name": "python3"
  },
  "language_info": {
   "codemirror_mode": {
    "name": "ipython",
    "version": 3
   },
   "file_extension": ".py",
   "mimetype": "text/x-python",
   "name": "python",
   "nbconvert_exporter": "python",
   "pygments_lexer": "ipython3",
   "version": "3.11.5"
  }
 },
 "nbformat": 4,
 "nbformat_minor": 2
}
