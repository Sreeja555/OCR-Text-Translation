{
 "cells": [
  {
   "cell_type": "code",
   "execution_count": 1,
   "metadata": {},
   "outputs": [],
   "source": [
    "import numpy as np\n",
    "import pytesseract\n",
    "import cv2\n",
    "\n",
    "pytesseract.pytesseract.tesseract_cmd = r'C:\\Program Files\\Tesseract-OCR\\tesseract.exe'"
   ]
  },
  {
   "cell_type": "code",
   "execution_count": 2,
   "metadata": {},
   "outputs": [
    {
     "name": "stdout",
     "output_type": "stream",
     "text": [
      "ers through the develo\n",
      "© their engineering problems.\n",
      "Meancy in the fields of Data moi\n",
      "\n",
      "ntrol, Fault diagr\n",
      "process industries: 4\n",
      "s us a technically synergistic\n",
      "\n",
      "\n"
     ]
    }
   ],
   "source": [
    "def text_extract(img, lan):\n",
    "    # Load the image\n",
    "    img_np = np.array(img)\n",
    "    gray = cv2.cvtColor(img_np, cv2.COLOR_BGR2GRAY)\n",
    "    text = pytesseract.image_to_string(gray, lang=lan)\n",
    "    return text\n",
    "    \n",
    "img = cv2.imread('captured_image.jpg')\n",
    "text = text_extract(img, 'eng')\n",
    "print(text)"
   ]
  }
 ],
 "metadata": {
  "kernelspec": {
   "display_name": "base",
   "language": "python",
   "name": "python3"
  },
  "language_info": {
   "codemirror_mode": {
    "name": "ipython",
    "version": 3
   },
   "file_extension": ".py",
   "mimetype": "text/x-python",
   "name": "python",
   "nbconvert_exporter": "python",
   "pygments_lexer": "ipython3",
   "version": "3.11.5"
  }
 },
 "nbformat": 4,
 "nbformat_minor": 2
}
